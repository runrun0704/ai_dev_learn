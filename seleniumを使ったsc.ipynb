{
 "cells": [
  {
   "cell_type": "code",
   "execution_count": 7,
   "id": "ce7a60d3-48d8-4689-9849-210868c8dc2a",
   "metadata": {},
   "outputs": [],
   "source": [
    "from selenium import webdriver\n",
    "import chromedriver_binary\n",
    "from time import sleep"
   ]
  },
  {
   "cell_type": "code",
   "execution_count": 8,
   "id": "e6c20291-af43-424f-9dce-e824574a19cb",
   "metadata": {},
   "outputs": [
    {
     "name": "stderr",
     "output_type": "stream",
     "text": [
      "<ipython-input-8-a70099417f96>:6: DeprecationWarning: find_element_by_* commands are deprecated. Please use find_element() instead\n",
      "  elem_username = browser.find_element_by_id('username')\n",
      "<ipython-input-8-a70099417f96>:9: DeprecationWarning: find_element_by_* commands are deprecated. Please use find_element() instead\n",
      "  elem_pass = browser.find_element_by_id('password')\n",
      "<ipython-input-8-a70099417f96>:13: DeprecationWarning: find_element_by_* commands are deprecated. Please use find_element() instead\n",
      "  elem_btn = browser.find_element_by_id('login-btn')\n"
     ]
    }
   ],
   "source": [
    "browser = webdriver.Chrome()\n",
    "url = 'https://scraping-for-beginner.herokuapp.com/login_page'\n",
    "browser.get(url)\n",
    "sleep(4)\n",
    "\n",
    "elem_username = browser.find_element_by_id('username')\n",
    "elem_username.send_keys('imanishi')\n",
    "\n",
    "elem_pass = browser.find_element_by_id('password')\n",
    "elem_pass.send_keys('kohei')\n",
    "\n",
    "sleep(1)\n",
    "elem_btn = browser.find_element_by_id('login-btn')\n",
    "elem_btn.click()"
   ]
  },
  {
   "cell_type": "code",
   "execution_count": 12,
   "id": "754be574-c471-4c8f-a596-987809c2e20e",
   "metadata": {},
   "outputs": [
    {
     "name": "stderr",
     "output_type": "stream",
     "text": [
      "<ipython-input-12-d5b8e7f06343>:1: DeprecationWarning: find_element_by_* commands are deprecated. Please use find_element() instead\n",
      "  elem = browser.find_element_by_id('name')\n"
     ]
    },
    {
     "data": {
      "text/plain": [
       "'今西 航平'"
      ]
     },
     "execution_count": 12,
     "metadata": {},
     "output_type": "execute_result"
    }
   ],
   "source": [
    "elem = browser.find_element_by_id('name')\n",
    "elem.text"
   ]
  },
  {
   "cell_type": "code",
   "execution_count": 13,
   "id": "daffe009-93d1-4a39-bcc2-696f2ca8ce25",
   "metadata": {},
   "outputs": [
    {
     "name": "stdout",
     "output_type": "stream",
     "text": [
      "株式会社キカガク\n",
      "1994年7月15日\n",
      "千葉県\n",
      "バスケットボール\n",
      "読書\n",
      "ガジェット集め\n"
     ]
    },
    {
     "name": "stderr",
     "output_type": "stream",
     "text": [
      "<ipython-input-13-fdd8d6b66251>:3: DeprecationWarning: find_element_by_* commands are deprecated. Please use find_element() instead\n",
      "  elem = browser.find_element_by_id(list_[i])\n"
     ]
    }
   ],
   "source": [
    "list_ = ['company', 'birthday', 'come_from', 'hobby']\n",
    "for i in range(len(list_)):\n",
    "    elem = browser.find_element_by_id(list_[i])\n",
    "    print(elem.text)"
   ]
  },
  {
   "cell_type": "code",
   "execution_count": 14,
   "id": "ad3ff0f0-06f9-4f23-86c9-d1580423e7b7",
   "metadata": {},
   "outputs": [
    {
     "name": "stderr",
     "output_type": "stream",
     "text": [
      "<ipython-input-14-3b33f609f03c>:1: DeprecationWarning: find_element_by_* commands are deprecated. Please use find_element() instead\n",
      "  elem_th = browser.find_element_by_tag_name('th')\n"
     ]
    },
    {
     "data": {
      "text/plain": [
       "'講師名'"
      ]
     },
     "execution_count": 14,
     "metadata": {},
     "output_type": "execute_result"
    }
   ],
   "source": [
    "elem_th = browser.find_element_by_tag_name('th')\n",
    "elem_th.text"
   ]
  },
  {
   "cell_type": "code",
   "execution_count": 17,
   "id": "75c8f312-a4bf-47ad-8d31-edc8787ebaee",
   "metadata": {},
   "outputs": [
    {
     "name": "stderr",
     "output_type": "stream",
     "text": [
      "<ipython-input-17-50a5c91f1b33>:1: DeprecationWarning: find_elements_by_* commands are deprecated. Please use find_elements() instead\n",
      "  elems_th = browser.find_elements_by_tag_name('th')\n"
     ]
    },
    {
     "data": {
      "text/plain": [
       "'講師名'"
      ]
     },
     "execution_count": 17,
     "metadata": {},
     "output_type": "execute_result"
    }
   ],
   "source": [
    "elems_th = browser.find_elements_by_tag_name('th')\n",
    "elems_th[0].text"
   ]
  },
  {
   "cell_type": "code",
   "execution_count": 18,
   "id": "ba7050b1-f190-44cd-a654-0aca543b9621",
   "metadata": {},
   "outputs": [
    {
     "name": "stdout",
     "output_type": "stream",
     "text": [
      "['講師名', '所属企業', '生年月日', '出身', '趣味']\n"
     ]
    }
   ],
   "source": [
    "list_ = []\n",
    "for i in range(len(elems_th)):\n",
    "    a = elems_th[i].text\n",
    "    list_.append(a)\n",
    "print(list_)    "
   ]
  },
  {
   "cell_type": "code",
   "execution_count": 19,
   "id": "e6c8dc0e-b231-4ed5-ba81-644b706342a5",
   "metadata": {},
   "outputs": [
    {
     "name": "stderr",
     "output_type": "stream",
     "text": [
      "<ipython-input-19-d7cc6a8cd075>:1: DeprecationWarning: find_elements_by_* commands are deprecated. Please use find_elements() instead\n",
      "  elems_td = browser.find_elements_by_tag_name('td')\n"
     ]
    }
   ],
   "source": [
    "elems_td = browser.find_elements_by_tag_name('td')\n",
    "list_2 = []"
   ]
  },
  {
   "cell_type": "code",
   "execution_count": 20,
   "id": "577e0f79-f690-4d30-a143-dc9035b8e1fd",
   "metadata": {},
   "outputs": [
    {
     "name": "stdout",
     "output_type": "stream",
     "text": [
      "['今西 航平', '株式会社キカガク', '1994年7月15日', '千葉県', 'バスケットボール\\n読書\\nガジェット集め']\n"
     ]
    }
   ],
   "source": [
    "for i in range(len(elems_td)):\n",
    "    a = elems_td[i].text\n",
    "    list_2.append(a)\n",
    "print(list_2)"
   ]
  },
  {
   "cell_type": "code",
   "execution_count": 21,
   "id": "2bafa272-d345-4644-8329-80fe3a5a70fe",
   "metadata": {},
   "outputs": [],
   "source": [
    "import pandas as pd"
   ]
  },
  {
   "cell_type": "code",
   "execution_count": 22,
   "id": "a0ae7e04-03bb-4543-85c9-196e42a5d7d3",
   "metadata": {},
   "outputs": [],
   "source": [
    "df = pd.DataFrame()"
   ]
  },
  {
   "cell_type": "code",
   "execution_count": 23,
   "id": "3a840459-180e-406a-8aae-25629e547fd4",
   "metadata": {},
   "outputs": [],
   "source": [
    "df['項目'] = list_"
   ]
  },
  {
   "cell_type": "code",
   "execution_count": 24,
   "id": "cc3496ec-2fc2-45c9-b2ba-bf525922e27a",
   "metadata": {},
   "outputs": [],
   "source": [
    "df['値'] = list_2"
   ]
  },
  {
   "cell_type": "code",
   "execution_count": 25,
   "id": "9564bc09-a04f-4945-a8bd-eff920e1998c",
   "metadata": {},
   "outputs": [
    {
     "data": {
      "text/html": [
       "<div>\n",
       "<style scoped>\n",
       "    .dataframe tbody tr th:only-of-type {\n",
       "        vertical-align: middle;\n",
       "    }\n",
       "\n",
       "    .dataframe tbody tr th {\n",
       "        vertical-align: top;\n",
       "    }\n",
       "\n",
       "    .dataframe thead th {\n",
       "        text-align: right;\n",
       "    }\n",
       "</style>\n",
       "<table border=\"1\" class=\"dataframe\">\n",
       "  <thead>\n",
       "    <tr style=\"text-align: right;\">\n",
       "      <th></th>\n",
       "      <th>項目</th>\n",
       "      <th>値</th>\n",
       "    </tr>\n",
       "  </thead>\n",
       "  <tbody>\n",
       "    <tr>\n",
       "      <th>0</th>\n",
       "      <td>講師名</td>\n",
       "      <td>今西 航平</td>\n",
       "    </tr>\n",
       "    <tr>\n",
       "      <th>1</th>\n",
       "      <td>所属企業</td>\n",
       "      <td>株式会社キカガク</td>\n",
       "    </tr>\n",
       "    <tr>\n",
       "      <th>2</th>\n",
       "      <td>生年月日</td>\n",
       "      <td>1994年7月15日</td>\n",
       "    </tr>\n",
       "    <tr>\n",
       "      <th>3</th>\n",
       "      <td>出身</td>\n",
       "      <td>千葉県</td>\n",
       "    </tr>\n",
       "    <tr>\n",
       "      <th>4</th>\n",
       "      <td>趣味</td>\n",
       "      <td>バスケットボール\\n読書\\nガジェット集め</td>\n",
       "    </tr>\n",
       "  </tbody>\n",
       "</table>\n",
       "</div>"
      ],
      "text/plain": [
       "     項目                      値\n",
       "0   講師名                  今西 航平\n",
       "1  所属企業               株式会社キカガク\n",
       "2  生年月日             1994年7月15日\n",
       "3    出身                    千葉県\n",
       "4    趣味  バスケットボール\\n読書\\nガジェット集め"
      ]
     },
     "execution_count": 25,
     "metadata": {},
     "output_type": "execute_result"
    }
   ],
   "source": [
    "df"
   ]
  },
  {
   "cell_type": "code",
   "execution_count": 29,
   "id": "9e6dd406-5340-4489-9427-45ee2ddda9b7",
   "metadata": {},
   "outputs": [],
   "source": [
    "df.to_csv('講師情報.csv', index = False)"
   ]
  },
  {
   "cell_type": "code",
   "execution_count": null,
   "id": "9191ab78-3dea-4197-9aa6-7d1cb5e4cd22",
   "metadata": {},
   "outputs": [],
   "source": []
  }
 ],
 "metadata": {
  "kernelspec": {
   "display_name": "Python 3",
   "language": "python",
   "name": "python3"
  },
  "language_info": {
   "codemirror_mode": {
    "name": "ipython",
    "version": 3
   },
   "file_extension": ".py",
   "mimetype": "text/x-python",
   "name": "python",
   "nbconvert_exporter": "python",
   "pygments_lexer": "ipython3",
   "version": "3.8.8"
  }
 },
 "nbformat": 4,
 "nbformat_minor": 5
}
